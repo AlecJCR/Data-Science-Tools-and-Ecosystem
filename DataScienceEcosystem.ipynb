{
 "cells": [
  {
   "cell_type": "markdown",
   "id": "0749d310-efb9-4dee-a02e-108d78fcd22b",
   "metadata": {},
   "source": [
    "# Data Science Tools and Ecosystem"
   ]
  },
  {
   "cell_type": "markdown",
   "id": "f970f846-0e13-44c6-8cf2-cf4193e63b91",
   "metadata": {},
   "source": [
    "In this notebook, Data Science Tools and Ecosystem are summarized."
   ]
  },
  {
   "cell_type": "markdown",
   "id": "e55ed2de-f373-4033-9fd5-96b4bfb91abe",
   "metadata": {},
   "source": [
    "**Objectives:**\n",
    "- List popular languages for Data Science\n",
    "- List commonly used libraries used by Data Scientists\n",
    "- Depict a few examples of evaluating arithmetic expressions in Python"
   ]
  },
  {
   "cell_type": "markdown",
   "id": "9a3d9bc4-385a-4641-b49b-b475e807d6e5",
   "metadata": {},
   "source": [
    "**Some of the popular languages that Data Scientists use are:**\n",
    "1. Python\n",
    "2. R\n",
    "3. SQL"
   ]
  },
  {
   "cell_type": "markdown",
   "id": "e5ef9543-6899-4a66-ae5c-119f93fe77cd",
   "metadata": {},
   "source": [
    "**Some commonly used libraries used by Data Scientists include:**\n",
    "1. dplyr for R\n",
    "2. ggplot2 for R\n",
    "3. Pandas for Python\n",
    "4. NumPy for Python"
   ]
  },
  {
   "cell_type": "markdown",
   "id": "1cc27331-795f-42cd-ad59-06bd6d949c8a",
   "metadata": {},
   "source": [
    "|**Data Science Tools**|\n",
    "------------------------\n",
    "|Spyder|\n",
    "|RStudio|\n",
    "|Anaconda Navigator|"
   ]
  },
  {
   "cell_type": "markdown",
   "id": "165a4362-f211-425f-86b1-862557e29585",
   "metadata": {},
   "source": [
    "### Below are a few examples of evaluating arithmetic expressions in Python"
   ]
  },
  {
   "cell_type": "code",
   "execution_count": 5,
   "id": "55bd87d3-1d74-4b00-be6c-c5ea3cecb647",
   "metadata": {},
   "outputs": [
    {
     "name": "stdout",
     "output_type": "stream",
     "text": [
      "17\n"
     ]
    }
   ],
   "source": [
    "#This is a simple arithmetic expression to multiply then add integers\n",
    "#(3*4)+5\n",
    "print((3*4)+5)"
   ]
  },
  {
   "cell_type": "code",
   "execution_count": 8,
   "id": "5b5dae87-2ef4-4554-b418-20740365edc2",
   "metadata": {},
   "outputs": [
    {
     "data": {
      "text/plain": [
       "3.3333333333333335"
      ]
     },
     "execution_count": 8,
     "metadata": {},
     "output_type": "execute_result"
    }
   ],
   "source": [
    "#This will convert 200 minutes to hours by dividing by 60\n",
    "200/60"
   ]
  },
  {
   "cell_type": "markdown",
   "id": "9a65e875-b6a7-4290-9ac7-9541d24680e3",
   "metadata": {},
   "source": [
    "## Author\n",
    "Alec Romero"
   ]
  }
 ],
 "metadata": {
  "kernelspec": {
   "display_name": "Python 3 (ipykernel)",
   "language": "python",
   "name": "python3"
  },
  "language_info": {
   "codemirror_mode": {
    "name": "ipython",
    "version": 3
   },
   "file_extension": ".py",
   "mimetype": "text/x-python",
   "name": "python",
   "nbconvert_exporter": "python",
   "pygments_lexer": "ipython3",
   "version": "3.10.9"
  }
 },
 "nbformat": 4,
 "nbformat_minor": 5
}
